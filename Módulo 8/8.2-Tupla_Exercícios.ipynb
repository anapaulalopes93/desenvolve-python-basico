{
 "cells": [
  {
   "cell_type": "markdown",
   "id": "0d5035b5",
   "metadata": {},
   "source": [
    "# Tupla\n",
    "\n",
    "## Aula 8.2"
   ]
  },
  {
   "cell_type": "markdown",
   "id": "0bdece85",
   "metadata": {},
   "source": [
    "### Q1. \n",
    "\n",
    "Escreva uma função ```calcula_area_perimetro``` que recebe **apenas um parâmetro** ```dimensoes``` e calcula a área e o perímetro a partir das dimensões dadas. \n",
    "- ```dimensoes``` é uma tupla (largura, comprimento) com as dimensões de um terreno retangular\n",
    "- Sua função deve calcular e retornar as seguintes operações\n",
    "   - $area = largura \\times comprimento$\n",
    "   - $perimetro = 2\\times(largura + comprimento)$\n"
   ]
  },
  {
   "cell_type": "code",
   "execution_count": 1,
   "id": "0a258eba",
   "metadata": {},
   "outputs": [],
   "source": [
    "def calcula_area_perimetro(dimensoes):\n",
    "    largura, comprimento = dimensoes\n",
    "    area = largura * comprimento\n",
    "    perimetro = 2 * (largura + comprimento)\n",
    "    return {'Área': area, 'Perímetro': perimetro}"
   ]
  },
  {
   "cell_type": "code",
   "execution_count": 4,
   "id": "e1866c04",
   "metadata": {},
   "outputs": [
    {
     "name": "stdout",
     "output_type": "stream",
     "text": [
      "{'Área': 35, 'Perímetro': 24} <class 'dict'>\n"
     ]
    }
   ],
   "source": [
    "dimensoes = (5, 7)\n",
    "\n",
    "retorno = calcula_area_perimetro(dimensoes)\n",
    "print(retorno, type(retorno))"
   ]
  },
  {
   "cell_type": "markdown",
   "id": "cbdcb986",
   "metadata": {},
   "source": [
    "### Q2.\n",
    "\n",
    "Dada uma string, imprima todas as vogais que aparecem na string, bem como todos os índices onde elas ocorrem. Para isso, use a função ```enumerate```.\n"
   ]
  },
  {
   "cell_type": "code",
   "execution_count": 6,
   "id": "1f6b1f2d",
   "metadata": {},
   "outputs": [
    {
     "name": "stdout",
     "output_type": "stream",
     "text": [
      "[0] O\n",
      "[3] a\n",
      "[5] o\n",
      "[8] o\n",
      "[9] e\n",
      "[10] u\n",
      "[12] a\n",
      "[15] o\n",
      "[16] u\n",
      "[18] a\n",
      "[21] a\n",
      "[23] A\n",
      "[25] i\n",
      "[27] e\n"
     ]
    }
   ],
   "source": [
    "frase = \"O rato roeu a roupa da Alice\"\n",
    "\n",
    "for i, letra in enumerate(frase):\n",
    "    if letra.lower() in \"aeiou\":\n",
    "        print([i], letra)"
   ]
  },
  {
   "cell_type": "markdown",
   "id": "8d46663f",
   "metadata": {},
   "source": [
    "### Q3.\n",
    "\n",
    "Escreva uma função em Python chamada ```ordenar_tuplas``` que recebe uma lista de tuplas, cada uma contendo o nome de um aluno e sua respectiva média, e retorna uma nova lista ordenada em ordem decrescente de médias."
   ]
  },
  {
   "cell_type": "code",
   "execution_count": 7,
   "id": "469f2e6e",
   "metadata": {},
   "outputs": [],
   "source": [
    "def ordenar_tuplas(lista):\n",
    "    return sorted(lista, key = lambda x: x[1], reverse = True)"
   ]
  },
  {
   "cell_type": "code",
   "execution_count": 8,
   "id": "1972c62b",
   "metadata": {},
   "outputs": [
    {
     "name": "stdout",
     "output_type": "stream",
     "text": [
      "[('Charlie', 9.0), ('David', 8.8), ('Alice', 8.5), ('Bob', 7.2)]\n"
     ]
    }
   ],
   "source": [
    "# Exemplo de uso:\n",
    "alunos_notas = [('Alice', 8.5), ('Bob', 7.2), ('Charlie', 9.0), ('David', 8.8)]\n",
    "resultado = ordenar_tuplas(alunos_notas)\n",
    "print(resultado)\n",
    "# Saída esperada: [('Charlie', 9.0), ('David', 8.8), ('Alice', 8.5), ('Bob', 7.2)]"
   ]
  },
  {
   "cell_type": "markdown",
   "id": "e0268fae",
   "metadata": {},
   "source": [
    "### Q4.\n",
    "\n",
    "Escreva uma função em Python chamada ```comprimir_tuplas``` que recebe uma lista de tuplas, cada uma contendo uma palavra e um número, e retorna uma nova lista de tuplas onde palavras idênticas são agrupadas e seus números são somados.\n",
    "\n"
   ]
  },
  {
   "cell_type": "code",
   "execution_count": 9,
   "id": "30a221f3",
   "metadata": {},
   "outputs": [],
   "source": [
    "def comprimir_tuplas(lista):\n",
    "    resultado = {}\n",
    "    for palavra, numero in lista:\n",
    "        if palavra in resultado:\n",
    "            resultado[palavra] += numero\n",
    "        else:\n",
    "            resultado[palavra] = numero\n",
    "\n",
    "    return list(resultado.items())"
   ]
  },
  {
   "cell_type": "code",
   "execution_count": 10,
   "id": "80972bac",
   "metadata": {},
   "outputs": [
    {
     "name": "stdout",
     "output_type": "stream",
     "text": [
      "[('maçã', 8), ('banana', 5), ('laranja', 1)]\n"
     ]
    }
   ],
   "source": [
    "# Exemplo de uso:\n",
    "tuplas_originais = [('maçã', 3), ('banana', 2), ('maçã', 5), ('laranja', 1), ('banana', 3)]\n",
    "resultado = comprimir_tuplas(tuplas_originais)\n",
    "print(resultado)\n",
    "# Saída esperada: [('maçã', 8), ('banana', 5), ('laranja', 1)]"
   ]
  },
  {
   "cell_type": "markdown",
   "id": "649a5082",
   "metadata": {},
   "source": [
    "### Q5. \n",
    "\n",
    "- Escreva um script que peça o nome e a idade de todos na fila de uma balada. Crie uma lista de tuplas com os pares ```(nome, idade)``` de cada um. \n",
    "- Em seguida crie e imprima duas tuplas apenas com os nomes, uma com os menores de idade que não poderão entrar, e uma com os maiores de idade (```idade >= 18```). \n",
    "\n"
   ]
  },
  {
   "cell_type": "code",
   "execution_count": 12,
   "id": "47cb0573",
   "metadata": {},
   "outputs": [
    {
     "name": "stdout",
     "output_type": "stream",
     "text": [
      "Fila:\n",
      "Nome: Nilce, idade: 64\n",
      "Nome: Juscelino, idade: 61\n",
      "Nome: Marconi, idade: 17\n",
      "Nome: Leo, idade: 16\n",
      "Nome: Geraldo, idade: 55\n",
      "Nome: Ana Paula, idade: 31\n",
      "\n",
      "Menores de idade (não podem entrar): ('Marconi', 'Leo')\n",
      "\n",
      "Maiores de idade (podem entrar): ('Nilce', 'Juscelino', 'Geraldo', 'Ana Paula')\n"
     ]
    }
   ],
   "source": [
    "fila = []\n",
    "\n",
    "while True:\n",
    "    nome = input(\"Digite o nome (ou 'fim' para encerrar o programa): \")\n",
    "    if nome.lower() == 'fim':\n",
    "        break\n",
    "    idade = int(input(f\"Digite a idade de {nome}: \"))\n",
    "    fila.append((nome, idade))\n",
    "\n",
    "print(\"Fila:\")\n",
    "for pessoa in fila:\n",
    "    print(f\"Nome: {pessoa[0]}, idade: {pessoa[1]}\")\n",
    "\n",
    "menores = tuple(nome for nome, idade in fila if idade < 18)\n",
    "maiores = tuple(nome for nome, idade in fila if idade >=18)\n",
    "\n",
    "print(f\"\\nMenores de idade (não podem entrar): {menores}\")\n",
    "print(f\"\\nMaiores de idade (podem entrar): {maiores}\")"
   ]
  }
 ],
 "metadata": {
  "kernelspec": {
   "display_name": "Python 3 (ipykernel)",
   "language": "python",
   "name": "python3"
  },
  "language_info": {
   "codemirror_mode": {
    "name": "ipython",
    "version": 3
   },
   "file_extension": ".py",
   "mimetype": "text/x-python",
   "name": "python",
   "nbconvert_exporter": "python",
   "pygments_lexer": "ipython3",
   "version": "3.11.9"
  }
 },
 "nbformat": 4,
 "nbformat_minor": 5
}
